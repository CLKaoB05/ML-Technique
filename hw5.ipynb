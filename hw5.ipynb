{
 "cells": [
  {
   "cell_type": "code",
   "execution_count": 11,
   "metadata": {},
   "outputs": [],
   "source": [
    "import numpy as np\n",
    "import math \n",
    "from svmutil import *\n",
    "\n",
    "def read_data(dataName):\n",
    "    yTrain, xTrain = svm_read_problem(dataName)\n",
    "    return yTrain, xTrain\n",
    "\n",
    "\n",
    "\n",
    "def to_binary_class(y,label):\n",
    "    newy = y.copy()\n",
    "    for i in range(len(y)):\n",
    "        if newy[i] != label:\n",
    "            newy[i] = -1\n",
    "        else:\n",
    "            newy[i] = 1\n",
    "    return newy\n",
    "\n",
    "def sparse_to_dense(xTrain):\n",
    "    x = xTrain.copy()\n",
    "    newX = np.zeros(36)\n",
    "    for index in range(36):\n",
    "        i = index +1\n",
    "        if x.get(i) != None:\n",
    "            newX[index] = x.get(i)\n",
    "        else:\n",
    "            newX[index] = 0\n",
    "    return newX           \n"
   ]
  },
  {
   "cell_type": "code",
   "execution_count": 12,
   "metadata": {},
   "outputs": [
    {
     "name": "stdout",
     "output_type": "stream",
     "text": [
      "||w|| = 8.457084298367683\n",
      "500\n"
     ]
    }
   ],
   "source": [
    "#question 15\n",
    "def calculate_w (yTrain,xTrain):\n",
    "    yTrain = yTrain.copy()\n",
    "    xTrain = xTrain.copy()\n",
    "    m = svm_train(yTrain,xTrain,'-c 10 -t 0')\n",
    "    w = np.zeros(36)\n",
    "    for i in range(m.l):\n",
    "        sv_indice = m.sv_indices[i]-1\n",
    "        w = w + m.sv_coef[0][i]*sparse_to_dense(xTrain[sv_indice])\n",
    "        \n",
    "    print('||w|| = '+str(np.linalg.norm(w)))\n",
    "    print(m.l)\n",
    "    return(w)\n",
    "    \n",
    "    \n",
    "        \n",
    "yTrain,xTrain = read_data('satimage.scale')\n",
    "newy3 = to_binary_class(yTrain,3)\n",
    "w = calculate_w (newy3,xTrain)\n"
   ]
  },
  {
   "cell_type": "code",
   "execution_count": 22,
   "metadata": {},
   "outputs": [],
   "source": [
    " #question 16\n",
    "    \n",
    "def kernel(xn,xm):\n",
    "    xn = xn.copy()\n",
    "    xm = xm.copy()\n",
    "    return (1+np.dot(xn,xm))*(1+np.dot(xn,xm))\n",
    "    \n",
    "    \n",
    "def calculate_Ein(y,x):\n",
    "    y = y.copy()\n",
    "    x = x.copy()\n",
    "    m = svm_train(y,x,'-t 1 -d 2 -g 1 -r 1 -c 10')\n",
    "        \n",
    "    #b = -m.rho[0];\n",
    "    #calculate average b\n",
    "    b = 0\n",
    "    for k in range(m.l):\n",
    "        bc = 0\n",
    "        bc = m.sv_coef[0][k] / abs(m.sv_coef[0][k])\n",
    "        for i in range(m.l):\n",
    "            bc = bc - (m.sv_coef[0][i] * kernel(sparse_to_dense(x[m.sv_indices[k]-1]),sparse_to_dense(x[m.sv_indices[i]-1])))\n",
    "        b = b + bc\n",
    "        #print(bc)\n",
    "    b = bc / m.l\n",
    "    E_in = 0\n",
    "    for i in range(len(y)):\n",
    "        gSVM = 0\n",
    "        for j in range (m.l):\n",
    "            SVM_index = m.sv_indices[j]-1\n",
    "            gSVM = gSVM + (m.sv_coef[0][j] * kernel(sparse_to_dense(x[SVM_index]),sparse_to_dense(x[i])) + b)\n",
    "        if gSVM * y[i] < 0:\n",
    "            E_in += 1\n",
    "    E_in = E_in/len(y)\n",
    "    print ('number of SVM = ' + str(m.l))\n",
    "    return E_in"
   ]
  },
  {
   "cell_type": "code",
   "execution_count": 23,
   "metadata": {},
   "outputs": [
    {
     "name": "stdout",
     "output_type": "stream",
     "text": [
      "number of SVM = 145\n",
      "1 versus not 1 E_in: 0.0006764374295377678\n",
      "number of SVM = 87\n",
      "2 versus not 2 E_in: 0.0\n",
      "number of SVM = 433\n",
      "3 versus not 3 E_in: 0.022322435174746337\n",
      "number of SVM = 712\n",
      "4 versus not 4 E_in: 0.040586245772266064\n",
      "number of SVM = 259\n",
      "5 versus not 5 E_in: 0.006764374295377677\n"
     ]
    }
   ],
   "source": [
    "\n",
    "newy1 = to_binary_class(yTrain,1)\n",
    "print ('1 versus not 1 E_in: ' + str(calculate_Ein(newy1,xTrain)))\n",
    "newy2 = to_binary_class(yTrain,2)\n",
    "print ('2 versus not 2 E_in: ' + str(calculate_Ein(newy2,xTrain)))\n",
    "newy3 = to_binary_class(yTrain,3)\n",
    "print ('3 versus not 3 E_in: ' + str(calculate_Ein(newy3,xTrain)))\n",
    "newy4 = to_binary_class(yTrain,4)\n",
    "print ('4 versus not 4 E_in: ' + str(calculate_Ein(newy4,xTrain)))\n",
    "newy5 = to_binary_class(yTrain,5)\n",
    "print ('5 versus not 5 E_in: ' + str(calculate_Ein(newy5,xTrain)))\n"
   ]
  },
  {
   "cell_type": "code",
   "execution_count": 38,
   "metadata": {},
   "outputs": [
    {
     "name": "stdout",
     "output_type": "stream",
     "text": [
      "number of SVM = 3843\n",
      "C = 0.01, Eout = 0.765\n",
      "number of SVM = 3883\n",
      "C = 0.1, Eout = 0.765\n",
      "number of SVM = 3690\n",
      "C = 1, Eout = 0.235\n",
      "number of SVM = 3703\n",
      "C = 10, Eout = 0.235\n",
      "number of SVM = 3703\n",
      "C = 100, Eout = 0.235\n"
     ]
    }
   ],
   "source": [
    "\n",
    "#question 18\n",
    "def Gkernel(xn, xm, gamma):\n",
    "    return math.exp(-gamma * np.linalg.norm(xn - xm) ** 2)\n",
    "\n",
    "def calculate_Eout(y,x,yTest,xTest,C,gamma):\n",
    "    y = y.copy()\n",
    "    x = x.copy()\n",
    "    \n",
    "    m = svm_train(y,x,'-t 2 -c ' + str(C) +' -g '+ str(gamma))\n",
    "    print ('number of SVM = ' + str(m.l))\n",
    "    #b = -m.rho[0];\n",
    "    #calculate average b\n",
    "    k = 0\n",
    "    b = m.sv_coef[0][k] / abs(m.sv_coef[0][k])\n",
    "    for i in range(m.l):\n",
    "        b = b - (m.sv_coef[0][i] * Gkernel(sparse_to_dense(x[m.sv_indices[k]-1]),sparse_to_dense(x[m.sv_indices[i]-1]),gamma))\n",
    "    E_out = 0\n",
    "    for i in range(len(yTest)):\n",
    "        gSVM = 0\n",
    "        for j in range (m.l):\n",
    "            SVM_index = m.sv_indices[j]-1\n",
    "            gSVM = gSVM + (m.sv_coef[0][j] * Gkernel(sparse_to_dense(x[SVM_index]),sparse_to_dense(xTest[i]),gamma) + b)\n",
    "        if gSVM * yTest[i] < 0:\n",
    "            E_out += 1\n",
    "    E_out = E_out/len(yTest)\n",
    "    return E_out\n",
    "\n",
    "\n",
    "\n",
    "yTest, xTest = read_data('satimage.scale.t')\n",
    "newy6 = to_binary_class(yTrain,6)\n",
    "newYTest = to_binary_class(yTest,6)\n",
    "\n",
    "print('C = 0.01, Eout = ' + str(calculate_Eout(newy6,xTrain,newYTest,xTest,0.01,10)))\n",
    "print('C = 0.1, Eout = ' + str(calculate_Eout(newy6,xTrain,newYTest,xTest,0.1,10)))\n",
    "print('C = 1, Eout = '  + str(calculate_Eout(newy6,xTrain,newYTest,xTest,1,10)))\n",
    "print('C = 10, Eout = ' + str(calculate_Eout(newy6,xTrain,newYTest,xTest,10,10)))\n",
    "print('C = 100, Eout = '+ str(calculate_Eout(newy6,xTrain,newYTest,xTest,100,10)))\n"
   ]
  },
  {
   "cell_type": "code",
   "execution_count": null,
   "metadata": {},
   "outputs": [],
   "source": []
  },
  {
   "cell_type": "code",
   "execution_count": null,
   "metadata": {},
   "outputs": [
    {
     "name": "stdout",
     "output_type": "stream",
     "text": [
      "number of SVM = 1102\n",
      "gamma = 0.01, Eout = 0.235\n",
      "number of SVM = 1175\n",
      "gamma = 0.1, Eout = 0.765\n",
      "number of SVM = 3883\n",
      "gamma = 1, Eout = 0.765\n",
      "number of SVM = 4435\n"
     ]
    }
   ],
   "source": [
    "#question 19\n",
    "print('gamma = 0.1, Eout = ' + str(calculate_Eout(newy6,xTrain,newYTest,xTest,0.1,0.1)))\n",
    "print('gamma = 1, Eout = ' + str(calculate_Eout(newy6,xTrain,newYTest,xTest,0.1,1)))\n",
    "print('gamma = 10, Eout = '  + str(calculate_Eout(newy6,xTrain,newYTest,xTest,0.1,10)))\n",
    "print('gamma = 100, Eout = ' + str(calculate_Eout(newy6,xTrain,newYTest,xTest,0.1,100)))\n",
    "print('gamma = 1000, Eout = '+ str(calculate_Eout(newy6,xTrain,newYTest,xTest,0.1,1000)))"
   ]
  },
  {
   "cell_type": "code",
   "execution_count": null,
   "metadata": {},
   "outputs": [],
   "source": [
    "#question 20\n",
    "\n"
   ]
  }
 ],
 "metadata": {
  "kernelspec": {
   "display_name": "Python 3",
   "language": "python",
   "name": "python3"
  },
  "language_info": {
   "codemirror_mode": {
    "name": "ipython",
    "version": 3
   },
   "file_extension": ".py",
   "mimetype": "text/x-python",
   "name": "python",
   "nbconvert_exporter": "python",
   "pygments_lexer": "ipython3",
   "version": "3.6.9"
  }
 },
 "nbformat": 4,
 "nbformat_minor": 4
}
